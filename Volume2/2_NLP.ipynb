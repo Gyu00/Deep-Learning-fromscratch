{
 "cells": [
  {
   "cell_type": "markdown",
   "metadata": {},
   "source": [
    "###컴퓨터에게 단어를 이해시키기\n",
    "- 시소러스(사람이 만든 유의어 사전)\n",
    "- 통계 기반\n",
    "- 추론 기반\n",
    "\n",
    "###시소러스\n",
    "- 유의어를 한 그룹으로 분류\n",
    "- 단어들의 관계를 그래프로 표현하여 단어 사이의 연결 정의\n",
    "- ex) WordNet\n",
    "\n",
    "- 문제점\n",
    "    - 시대 변화에 대응 어려움\n",
    "    - 구성을 위한 인건비 많이 듬\n",
    "    - 단어의 미묘한 차이 표현 불가\n",
    "\n",
    "###통계 기반\n",
    "- 말뭉치(corpus)\n",
    "    - 자연어 처리를 위해 수집된 텍스트 데이터\n"
   ]
  },
  {
   "cell_type": "code",
   "execution_count": 1,
   "metadata": {},
   "outputs": [
    {
     "data": {
      "text/plain": [
       "'you say goodbye and i say hello .'"
      ]
     },
     "execution_count": 1,
     "metadata": {},
     "output_type": "execute_result"
    }
   ],
   "source": [
    "#Example\n",
    "text = 'You say goodbye and I say hello.'\n",
    "text = text.lower()\n",
    "text = text.replace('.', ' .')\n",
    "text"
   ]
  },
  {
   "cell_type": "code",
   "execution_count": 2,
   "metadata": {},
   "outputs": [
    {
     "data": {
      "text/plain": [
       "['you', 'say', 'goodbye', 'and', 'i', 'say', 'hello', '.']"
      ]
     },
     "execution_count": 2,
     "metadata": {},
     "output_type": "execute_result"
    }
   ],
   "source": [
    "words = text.split(' ')\n",
    "words"
   ]
  },
  {
   "cell_type": "code",
   "execution_count": 3,
   "metadata": {},
   "outputs": [
    {
     "name": "stdout",
     "output_type": "stream",
     "text": [
      "{0: 'you', 1: 'say', 2: 'goodbye', 3: 'and', 4: 'i', 5: 'hello', 6: '.'}\n",
      "{'you': 0, 'say': 1, 'goodbye': 2, 'and': 3, 'i': 4, 'hello': 5, '.': 6}\n"
     ]
    }
   ],
   "source": [
    "#단어 -> ID//ID-> 단어 dictionary 만들기\n",
    "word_to_id = {}\n",
    "id_to_word = {}\n",
    "\n",
    "for word in words:\n",
    "    if word not in word_to_id:\n",
    "        new_id = len(word_to_id)\n",
    "        word_to_id[word] = new_id\n",
    "        id_to_word[new_id] = word\n",
    "\n",
    "print(id_to_word)\n",
    "print(word_to_id)"
   ]
  },
  {
   "cell_type": "code",
   "execution_count": 4,
   "metadata": {},
   "outputs": [
    {
     "name": "stdout",
     "output_type": "stream",
     "text": [
      "[0 1 2 3 4 1 5 6]\n"
     ]
    }
   ],
   "source": [
    "#단어 목록 -> 단어 id 목록\n",
    "import numpy as np\n",
    "corpus = [word_to_id[w] for w in words]\n",
    "corpus = np.array(corpus)\n",
    "print(corpus)"
   ]
  },
  {
   "cell_type": "code",
   "execution_count": 5,
   "metadata": {},
   "outputs": [],
   "source": [
    "def preprocess(text):\n",
    "    text = text.lower()\n",
    "    text = text.replace('.', ' .')\n",
    "    words = text.split(' ')\n",
    "\n",
    "    word_to_id = {}\n",
    "    id_to_word = {}\n",
    "\n",
    "    for word in words:\n",
    "        if word not in word_to_id:\n",
    "            new_id = len(word_to_id)\n",
    "            word_to_id[word] = new_id\n",
    "            id_to_word[new_id] = word\n",
    "    \n",
    "    corpus = np.array([word_to_id[w] for w in words])\n",
    "\n",
    "    return corpus, word_to_id, id_to_word"
   ]
  },
  {
   "cell_type": "markdown",
   "metadata": {},
   "source": [
    "단어 -> 벡터로 표현\n",
    "올바른 벡터 표현을 단어에서 구축 가능할까? (RGB를 보고 대충 무슨색인지 알 수있는 느낌)\n",
    "단어의 의미를 정확하게 파악할 수 있는 벡터 표현 --> 분산표현"
   ]
  },
  {
   "cell_type": "markdown",
   "metadata": {},
   "source": [
    "분포가설 : 단어의 의미는 주변 단어에 의해 형성된다\n",
    "-> 단어가 사용된 맥락(context)이 의미를 형성\n",
    "\n",
    "동시 발생 행렬 -> 각 단어마다 동시에 발생하는 맥락이 있는 단어의 빈도"
   ]
  },
  {
   "cell_type": "code",
   "execution_count": 6,
   "metadata": {},
   "outputs": [],
   "source": [
    "#동시발생행렬 구하기\n",
    "def create_co_matrix(corpus, vocab_size, window_size=1):\n",
    "    corpus_size=len(corpus)\n",
    "    co_matrix = np.zeros((vocab_size, vocab_size), dtype=np.int32)\n",
    "\n",
    "    for idx, word_id in enumerate(corpus):\n",
    "        for i in range(1, window_size+1):\n",
    "            left_idx = idx-1\n",
    "            right_idx = idx+1\n",
    "\n",
    "            if left_idx>=0:\n",
    "                left_world_id = corpus[left_idx]\n",
    "                co_matrix[word_id, left_world_id] +=1\n",
    "\n",
    "            if right_idx<corpus_size:\n",
    "                right_world_id = corpus[right_idx]\n",
    "                co_matrix[word_id, right_world_id] += 1\n",
    "            \n",
    "\n",
    "    return co_matrix\n",
    "\n"
   ]
  },
  {
   "cell_type": "code",
   "execution_count": 8,
   "metadata": {},
   "outputs": [],
   "source": [
    "#벡터간 유사도를 구하기 위한 cosine similarity : 단어 벡터 유사도를 구할 떄 자주 사용\n",
    "def cos_similarity(x, y, eps=1e-8):\n",
    "    nx = x/ (np.sqrt(np.sum(x**2))+eps)\n",
    "    ny = y/ (np.sqrt(np.sum(y**2))+eps)\n",
    "    return np.dot(nx,ny)"
   ]
  },
  {
   "cell_type": "code",
   "execution_count": 9,
   "metadata": {},
   "outputs": [
    {
     "name": "stdout",
     "output_type": "stream",
     "text": [
      "0.7071067691154799\n"
     ]
    }
   ],
   "source": [
    "#you단어 벡터와 i 단어벡터의 단어유사도 구해보기\n",
    "text = 'You say goodbye and I say hello.'\n",
    "corpus, word_to_id, id_to_word = preprocess(text)\n",
    "vocab_size = len(word_to_id)\n",
    "C = create_co_matrix(corpus, vocab_size)\n",
    "\n",
    "c0 = C[word_to_id['you']]\n",
    "c1 = C[word_to_id['i']]\n",
    "print(cos_similarity(c0,c1))"
   ]
  },
  {
   "cell_type": "code",
   "execution_count": 10,
   "metadata": {},
   "outputs": [],
   "source": [
    "#유사 단어의 랭킹 표시\n",
    "#어떤 단어가 검색어로 주어지면, 그 검색어와 비슷한 단어를 유사도 순으로 출력\n",
    "\n",
    "def most_similar(query, word_to_id, id_to_word, word_matrix, top=5):\n",
    "    if query not in word_to_id:\n",
    "        print('Can\\'t find the word %s.'%query)\n",
    "        return\n",
    "    \n",
    "    print('\\n[query] '+query)\n",
    "    query_id = word_to_id[query]\n",
    "    query_vec = word_matrix[query_id]\n",
    "\n",
    "    #cos similarity 계산\n",
    "    vocab_size = len(id_to_word)\n",
    "    similarity = np.zeros(vocab_size)\n",
    "    for i in range(vocab_size):\n",
    "        similarity[i] = cos_similarity(word_matrix[i], query_vec)\n",
    "\n",
    "    #cos similarity top 5\n",
    "    count = 0\n",
    "    for i in (-1*similarity).argsort():\n",
    "        if id_to_word[i] == query:\n",
    "            continue\n",
    "        print(' %s: %s'%(id_to_word[i], similarity[i]))\n",
    "\n",
    "        count += 1\n",
    "        if count >= top:\n",
    "            return"
   ]
  },
  {
   "cell_type": "code",
   "execution_count": 12,
   "metadata": {},
   "outputs": [
    {
     "name": "stdout",
     "output_type": "stream",
     "text": [
      "[1 2 0]\n",
      "[100 -20   2]\n"
     ]
    }
   ],
   "source": [
    "#argsort() : 배열의 원소를 오름차순으로 정렬하고 배열의 인덱스를 반환\n",
    "x = np.array([100, -20, 2])\n",
    "print(x.argsort())"
   ]
  },
  {
   "cell_type": "code",
   "execution_count": 13,
   "metadata": {},
   "outputs": [
    {
     "name": "stdout",
     "output_type": "stream",
     "text": [
      "\n",
      "[query] you\n",
      " goodbye: 0.7071067691154799\n",
      " i: 0.7071067691154799\n",
      " hello: 0.7071067691154799\n",
      " say: 0.0\n",
      " and: 0.0\n"
     ]
    }
   ],
   "source": [
    "text = 'You say goodbye and I say hello.'\n",
    "corpus, word_to_id, id_to_word = preprocess(text)\n",
    "vocab_size = len(word_to_id)\n",
    "C = create_co_matrix(corpus, vocab_size)\n",
    "\n",
    "most_similar('you', word_to_id, id_to_word, C)"
   ]
  },
  {
   "cell_type": "markdown",
   "metadata": {},
   "source": [
    "How to improve?\n"
   ]
  },
  {
   "cell_type": "code",
   "execution_count": null,
   "metadata": {},
   "outputs": [],
   "source": []
  }
 ],
 "metadata": {
  "kernelspec": {
   "display_name": "Python 3.9.5 ('py39')",
   "language": "python",
   "name": "python3"
  },
  "language_info": {
   "codemirror_mode": {
    "name": "ipython",
    "version": 3
   },
   "file_extension": ".py",
   "mimetype": "text/x-python",
   "name": "python",
   "nbconvert_exporter": "python",
   "pygments_lexer": "ipython3",
   "version": "3.9.5"
  },
  "orig_nbformat": 4,
  "vscode": {
   "interpreter": {
    "hash": "a26759762c92517ffabed28e291b649ce7c8d836ec485172e213ea4f819cb2a2"
   }
  }
 },
 "nbformat": 4,
 "nbformat_minor": 2
}
