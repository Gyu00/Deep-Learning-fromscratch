{
 "cells": [
  {
   "cell_type": "markdown",
   "metadata": {},
   "source": [
    "2. Perceptron\n",
    "(Single-layer perceptron)\n",
    "- 퍼셉트론은 다수의 신호를 입력받아 하나의 신호를 출력하는 알고리즘\n",
    "- Binary classification을 위한 threshold funciton을 학습하기 위한 알고리즘\n",
    "- Input : 실수 벡터 x, Output : y\n",
    "    if dot(w,x) + b > 0:\n",
    "        y = 1\n",
    "    else:\n",
    "        y = 0\n",
    "- 실수 weight w, bias b\n",
    "- Example, AND gate"
   ]
  },
  {
   "cell_type": "code",
   "execution_count": 1,
   "metadata": {},
   "outputs": [
    {
     "name": "stdout",
     "output_type": "stream",
     "text": [
      "0\n",
      "0\n",
      "0\n",
      "1\n"
     ]
    }
   ],
   "source": [
    "import numpy as np\n",
    "#AND\n",
    "def AND(x):\n",
    "    w = np.array([0.5, 0.5])\n",
    "    b = -0.7\n",
    "    \n",
    "    if np.dot(x, w)+b >0:\n",
    "        return 1\n",
    "    else:\n",
    "        return 0\n",
    "\n",
    "print(AND([0,0]))\n",
    "print(AND([1,0]))\n",
    "print(AND([0,1]))\n",
    "print(AND([1,1]))"
   ]
  },
  {
   "cell_type": "code",
   "execution_count": 2,
   "metadata": {},
   "outputs": [
    {
     "name": "stdout",
     "output_type": "stream",
     "text": [
      "1\n",
      "1\n",
      "1\n",
      "0\n"
     ]
    }
   ],
   "source": [
    "import numpy as np\n",
    "#NAND\n",
    "def NAND(x):\n",
    "    w = np.array([-0.5, -0.5])\n",
    "    b = 0.7\n",
    "    \n",
    "    if np.dot(x, w)+b >0:\n",
    "        return 1\n",
    "    else:\n",
    "        return 0\n",
    "\n",
    "print(NAND([0,0]))\n",
    "print(NAND([1,0]))\n",
    "print(NAND([0,1]))\n",
    "print(NAND([1,1]))    "
   ]
  },
  {
   "cell_type": "code",
   "execution_count": 3,
   "metadata": {},
   "outputs": [
    {
     "name": "stdout",
     "output_type": "stream",
     "text": [
      "0\n",
      "1\n",
      "1\n",
      "1\n"
     ]
    }
   ],
   "source": [
    "import numpy as np\n",
    "#OR\n",
    "def OR(x):\n",
    "    w = np.array([0.5, 0.5])\n",
    "    b = -0.3\n",
    "    \n",
    "    if np.dot(x, w)+b >0:\n",
    "        return 1\n",
    "    else:\n",
    "        return 0\n",
    "\n",
    "print(OR([0,0]))\n",
    "print(OR([1,0]))\n",
    "print(OR([0,1]))\n",
    "print(OR([1,1]))    "
   ]
  },
  {
   "cell_type": "markdown",
   "metadata": {},
   "source": [
    "(Multi-layer perceptron)\n",
    "- XOR과 같은 하나의 직선으로 분류하기 힘든 작업들을 위하여 여러 층의 Perceptron 사용"
   ]
  },
  {
   "cell_type": "code",
   "execution_count": 4,
   "metadata": {},
   "outputs": [
    {
     "name": "stdout",
     "output_type": "stream",
     "text": [
      "0\n",
      "1\n",
      "1\n",
      "0\n"
     ]
    }
   ],
   "source": [
    "#XOR\n",
    "def XOR(x):\n",
    "    return AND([NAND(x), OR(x)])\n",
    "print(XOR([0,0]))\n",
    "print(XOR([1,0]))\n",
    "print(XOR([0,1]))\n",
    "print(XOR([1,1]))    "
   ]
  },
  {
   "cell_type": "code",
   "execution_count": null,
   "metadata": {},
   "outputs": [],
   "source": []
  }
 ],
 "metadata": {
  "interpreter": {
   "hash": "2c39af01db7e5e89c1e753993506de54aa8f521ca6337a14a2932707cbddefc0"
  },
  "kernelspec": {
   "display_name": "Python 3.9.5 ('py39')",
   "language": "python",
   "name": "python3"
  },
  "language_info": {
   "codemirror_mode": {
    "name": "ipython",
    "version": 3
   },
   "file_extension": ".py",
   "mimetype": "text/x-python",
   "name": "python",
   "nbconvert_exporter": "python",
   "pygments_lexer": "ipython3",
   "version": "3.9.5"
  },
  "orig_nbformat": 4
 },
 "nbformat": 4,
 "nbformat_minor": 2
}
